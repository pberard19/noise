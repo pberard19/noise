{
 "cells": [
  {
   "cell_type": "code",
   "execution_count": 94,
   "metadata": {},
   "outputs": [],
   "source": [
    "import numpy as np\n",
    "import pandas as pd\n",
    "import matplotlib.pyplot as plt\n",
    "%matplotlib inline\n",
    "import seaborn as sns\n",
    "sns.set(style=\"whitegrid\")\n",
    "from datetime import datetime\n",
    "from datetime import timedelta\n",
    "import calendar\n",
    "import calmap"
   ]
  },
  {
   "cell_type": "code",
   "execution_count": 2,
   "metadata": {},
   "outputs": [],
   "source": [
    "# I took notes of any time our downstairs neighbors were particularly loud or obnoxious,\n",
    "# defined as being louder than the sound of our tv, dishwasher, or level of normal conversation.\n",
    "# I wrote down approximate start/end times as well as the type of disturbance defined as either\n",
    "# 'bass', 'weed', or 'shouting'\n",
    "df = pd.read_csv('noise.csv')"
   ]
  },
  {
   "cell_type": "code",
   "execution_count": 3,
   "metadata": {},
   "outputs": [
    {
     "data": {
      "text/html": [
       "<div>\n",
       "<style scoped>\n",
       "    .dataframe tbody tr th:only-of-type {\n",
       "        vertical-align: middle;\n",
       "    }\n",
       "\n",
       "    .dataframe tbody tr th {\n",
       "        vertical-align: top;\n",
       "    }\n",
       "\n",
       "    .dataframe thead th {\n",
       "        text-align: right;\n",
       "    }\n",
       "</style>\n",
       "<table border=\"1\" class=\"dataframe\">\n",
       "  <thead>\n",
       "    <tr style=\"text-align: right;\">\n",
       "      <th></th>\n",
       "      <th>date</th>\n",
       "      <th>start</th>\n",
       "      <th>end</th>\n",
       "      <th>type</th>\n",
       "    </tr>\n",
       "  </thead>\n",
       "  <tbody>\n",
       "    <tr>\n",
       "      <th>0</th>\n",
       "      <td>9/21/19</td>\n",
       "      <td>2:30pm</td>\n",
       "      <td>4:00pm</td>\n",
       "      <td>bass</td>\n",
       "    </tr>\n",
       "    <tr>\n",
       "      <th>1</th>\n",
       "      <td>9/22/19</td>\n",
       "      <td>4:15pm</td>\n",
       "      <td>4:40pm</td>\n",
       "      <td>bass</td>\n",
       "    </tr>\n",
       "    <tr>\n",
       "      <th>2</th>\n",
       "      <td>9/22/19</td>\n",
       "      <td>9:30pm</td>\n",
       "      <td>10:30pm</td>\n",
       "      <td>bass</td>\n",
       "    </tr>\n",
       "    <tr>\n",
       "      <th>3</th>\n",
       "      <td>10/1/19</td>\n",
       "      <td>11:00pm</td>\n",
       "      <td>11:15pm</td>\n",
       "      <td>bass</td>\n",
       "    </tr>\n",
       "    <tr>\n",
       "      <th>4</th>\n",
       "      <td>10/4/19</td>\n",
       "      <td>10:00pm</td>\n",
       "      <td>10:30pm</td>\n",
       "      <td>bass</td>\n",
       "    </tr>\n",
       "  </tbody>\n",
       "</table>\n",
       "</div>"
      ],
      "text/plain": [
       "      date    start      end  type\n",
       "0  9/21/19   2:30pm   4:00pm  bass\n",
       "1  9/22/19   4:15pm   4:40pm  bass\n",
       "2  9/22/19   9:30pm  10:30pm  bass\n",
       "3  10/1/19  11:00pm  11:15pm  bass\n",
       "4  10/4/19  10:00pm  10:30pm  bass"
      ]
     },
     "execution_count": 3,
     "metadata": {},
     "output_type": "execute_result"
    }
   ],
   "source": [
    "df.head()"
   ]
  },
  {
   "cell_type": "code",
   "execution_count": 4,
   "metadata": {},
   "outputs": [],
   "source": [
    "# convert start/end times to datetimes\n",
    "df['startTime'] = df.apply(lambda x: datetime.strptime(x['date'] + ' ' + x['start'], '%m/%d/%y %I:%M%p'), axis=1)\n",
    "df['endTime'] = df.apply(lambda x: datetime.strptime(x['date'] + ' ' + x['end'], '%m/%d/%y %I:%M%p'), axis=1)"
   ]
  },
  {
   "cell_type": "code",
   "execution_count": 5,
   "metadata": {},
   "outputs": [
    {
     "data": {
      "text/html": [
       "<div>\n",
       "<style scoped>\n",
       "    .dataframe tbody tr th:only-of-type {\n",
       "        vertical-align: middle;\n",
       "    }\n",
       "\n",
       "    .dataframe tbody tr th {\n",
       "        vertical-align: top;\n",
       "    }\n",
       "\n",
       "    .dataframe thead th {\n",
       "        text-align: right;\n",
       "    }\n",
       "</style>\n",
       "<table border=\"1\" class=\"dataframe\">\n",
       "  <thead>\n",
       "    <tr style=\"text-align: right;\">\n",
       "      <th></th>\n",
       "      <th>date</th>\n",
       "      <th>start</th>\n",
       "      <th>end</th>\n",
       "      <th>type</th>\n",
       "      <th>startTime</th>\n",
       "      <th>endTime</th>\n",
       "    </tr>\n",
       "  </thead>\n",
       "  <tbody>\n",
       "    <tr>\n",
       "      <th>0</th>\n",
       "      <td>9/21/19</td>\n",
       "      <td>2:30pm</td>\n",
       "      <td>4:00pm</td>\n",
       "      <td>bass</td>\n",
       "      <td>2019-09-21 14:30:00</td>\n",
       "      <td>2019-09-21 16:00:00</td>\n",
       "    </tr>\n",
       "    <tr>\n",
       "      <th>1</th>\n",
       "      <td>9/22/19</td>\n",
       "      <td>4:15pm</td>\n",
       "      <td>4:40pm</td>\n",
       "      <td>bass</td>\n",
       "      <td>2019-09-22 16:15:00</td>\n",
       "      <td>2019-09-22 16:40:00</td>\n",
       "    </tr>\n",
       "    <tr>\n",
       "      <th>2</th>\n",
       "      <td>9/22/19</td>\n",
       "      <td>9:30pm</td>\n",
       "      <td>10:30pm</td>\n",
       "      <td>bass</td>\n",
       "      <td>2019-09-22 21:30:00</td>\n",
       "      <td>2019-09-22 22:30:00</td>\n",
       "    </tr>\n",
       "    <tr>\n",
       "      <th>3</th>\n",
       "      <td>10/1/19</td>\n",
       "      <td>11:00pm</td>\n",
       "      <td>11:15pm</td>\n",
       "      <td>bass</td>\n",
       "      <td>2019-10-01 23:00:00</td>\n",
       "      <td>2019-10-01 23:15:00</td>\n",
       "    </tr>\n",
       "    <tr>\n",
       "      <th>4</th>\n",
       "      <td>10/4/19</td>\n",
       "      <td>10:00pm</td>\n",
       "      <td>10:30pm</td>\n",
       "      <td>bass</td>\n",
       "      <td>2019-10-04 22:00:00</td>\n",
       "      <td>2019-10-04 22:30:00</td>\n",
       "    </tr>\n",
       "  </tbody>\n",
       "</table>\n",
       "</div>"
      ],
      "text/plain": [
       "      date    start      end  type           startTime             endTime\n",
       "0  9/21/19   2:30pm   4:00pm  bass 2019-09-21 14:30:00 2019-09-21 16:00:00\n",
       "1  9/22/19   4:15pm   4:40pm  bass 2019-09-22 16:15:00 2019-09-22 16:40:00\n",
       "2  9/22/19   9:30pm  10:30pm  bass 2019-09-22 21:30:00 2019-09-22 22:30:00\n",
       "3  10/1/19  11:00pm  11:15pm  bass 2019-10-01 23:00:00 2019-10-01 23:15:00\n",
       "4  10/4/19  10:00pm  10:30pm  bass 2019-10-04 22:00:00 2019-10-04 22:30:00"
      ]
     },
     "execution_count": 5,
     "metadata": {},
     "output_type": "execute_result"
    }
   ],
   "source": [
    "df.head()"
   ]
  },
  {
   "cell_type": "code",
   "execution_count": 6,
   "metadata": {},
   "outputs": [],
   "source": [
    "# Get the duration. Subtracting datetimes produces a timedelta. Timedeltas are represented\n",
    "# as a tuple (minutes, seconds), but we just need the total seconds\n",
    "df['duration'] = df.apply(lambda x: (x['endTime'].to_pydatetime() - x['startTime'].to_pydatetime()).total_seconds(), axis=1)"
   ]
  },
  {
   "cell_type": "code",
   "execution_count": 7,
   "metadata": {},
   "outputs": [],
   "source": [
    "df['weekday'] = df.apply(lambda x: calendar.day_name[x['startTime'].weekday()], axis=1)\n",
    "df['month'] = df.apply(lambda x: x['startTime'].strftime('%B'), axis=1)\n",
    "df['monthYear'] = df.apply(lambda x: x['startTime'].strftime('%b %y'), axis=1)"
   ]
  },
  {
   "cell_type": "code",
   "execution_count": 8,
   "metadata": {},
   "outputs": [
    {
     "data": {
      "text/html": [
       "<div>\n",
       "<style scoped>\n",
       "    .dataframe tbody tr th:only-of-type {\n",
       "        vertical-align: middle;\n",
       "    }\n",
       "\n",
       "    .dataframe tbody tr th {\n",
       "        vertical-align: top;\n",
       "    }\n",
       "\n",
       "    .dataframe thead th {\n",
       "        text-align: right;\n",
       "    }\n",
       "</style>\n",
       "<table border=\"1\" class=\"dataframe\">\n",
       "  <thead>\n",
       "    <tr style=\"text-align: right;\">\n",
       "      <th></th>\n",
       "      <th>date</th>\n",
       "      <th>start</th>\n",
       "      <th>end</th>\n",
       "      <th>type</th>\n",
       "      <th>startTime</th>\n",
       "      <th>endTime</th>\n",
       "      <th>duration</th>\n",
       "      <th>weekday</th>\n",
       "      <th>month</th>\n",
       "      <th>monthYear</th>\n",
       "    </tr>\n",
       "  </thead>\n",
       "  <tbody>\n",
       "    <tr>\n",
       "      <th>0</th>\n",
       "      <td>9/21/19</td>\n",
       "      <td>2:30pm</td>\n",
       "      <td>4:00pm</td>\n",
       "      <td>bass</td>\n",
       "      <td>2019-09-21 14:30:00</td>\n",
       "      <td>2019-09-21 16:00:00</td>\n",
       "      <td>5400.0</td>\n",
       "      <td>Saturday</td>\n",
       "      <td>September</td>\n",
       "      <td>Sep 19</td>\n",
       "    </tr>\n",
       "    <tr>\n",
       "      <th>1</th>\n",
       "      <td>9/22/19</td>\n",
       "      <td>4:15pm</td>\n",
       "      <td>4:40pm</td>\n",
       "      <td>bass</td>\n",
       "      <td>2019-09-22 16:15:00</td>\n",
       "      <td>2019-09-22 16:40:00</td>\n",
       "      <td>1500.0</td>\n",
       "      <td>Sunday</td>\n",
       "      <td>September</td>\n",
       "      <td>Sep 19</td>\n",
       "    </tr>\n",
       "    <tr>\n",
       "      <th>2</th>\n",
       "      <td>9/22/19</td>\n",
       "      <td>9:30pm</td>\n",
       "      <td>10:30pm</td>\n",
       "      <td>bass</td>\n",
       "      <td>2019-09-22 21:30:00</td>\n",
       "      <td>2019-09-22 22:30:00</td>\n",
       "      <td>3600.0</td>\n",
       "      <td>Sunday</td>\n",
       "      <td>September</td>\n",
       "      <td>Sep 19</td>\n",
       "    </tr>\n",
       "    <tr>\n",
       "      <th>3</th>\n",
       "      <td>10/1/19</td>\n",
       "      <td>11:00pm</td>\n",
       "      <td>11:15pm</td>\n",
       "      <td>bass</td>\n",
       "      <td>2019-10-01 23:00:00</td>\n",
       "      <td>2019-10-01 23:15:00</td>\n",
       "      <td>900.0</td>\n",
       "      <td>Tuesday</td>\n",
       "      <td>October</td>\n",
       "      <td>Oct 19</td>\n",
       "    </tr>\n",
       "    <tr>\n",
       "      <th>4</th>\n",
       "      <td>10/4/19</td>\n",
       "      <td>10:00pm</td>\n",
       "      <td>10:30pm</td>\n",
       "      <td>bass</td>\n",
       "      <td>2019-10-04 22:00:00</td>\n",
       "      <td>2019-10-04 22:30:00</td>\n",
       "      <td>1800.0</td>\n",
       "      <td>Friday</td>\n",
       "      <td>October</td>\n",
       "      <td>Oct 19</td>\n",
       "    </tr>\n",
       "  </tbody>\n",
       "</table>\n",
       "</div>"
      ],
      "text/plain": [
       "      date    start      end  type           startTime             endTime  \\\n",
       "0  9/21/19   2:30pm   4:00pm  bass 2019-09-21 14:30:00 2019-09-21 16:00:00   \n",
       "1  9/22/19   4:15pm   4:40pm  bass 2019-09-22 16:15:00 2019-09-22 16:40:00   \n",
       "2  9/22/19   9:30pm  10:30pm  bass 2019-09-22 21:30:00 2019-09-22 22:30:00   \n",
       "3  10/1/19  11:00pm  11:15pm  bass 2019-10-01 23:00:00 2019-10-01 23:15:00   \n",
       "4  10/4/19  10:00pm  10:30pm  bass 2019-10-04 22:00:00 2019-10-04 22:30:00   \n",
       "\n",
       "   duration   weekday      month monthYear  \n",
       "0    5400.0  Saturday  September    Sep 19  \n",
       "1    1500.0    Sunday  September    Sep 19  \n",
       "2    3600.0    Sunday  September    Sep 19  \n",
       "3     900.0   Tuesday    October    Oct 19  \n",
       "4    1800.0    Friday    October    Oct 19  "
      ]
     },
     "execution_count": 8,
     "metadata": {},
     "output_type": "execute_result"
    }
   ],
   "source": [
    "df.head()"
   ]
  },
  {
   "cell_type": "code",
   "execution_count": 89,
   "metadata": {},
   "outputs": [],
   "source": [
    "# Woohoo we have data! Now lets make some graphics\n",
    "getMonthNum = lambda x:  datetime.strptime(x['monthYear'], '%b %y').strftime('%m')\n",
    "getYearNum = lambda x:  datetime.strptime(x['monthYear'], '%b %y').strftime('%y')"
   ]
  },
  {
   "cell_type": "code",
   "execution_count": 232,
   "metadata": {},
   "outputs": [
    {
     "data": {
      "text/html": [
       "<div>\n",
       "<style scoped>\n",
       "    .dataframe tbody tr th:only-of-type {\n",
       "        vertical-align: middle;\n",
       "    }\n",
       "\n",
       "    .dataframe tbody tr th {\n",
       "        vertical-align: top;\n",
       "    }\n",
       "\n",
       "    .dataframe thead th {\n",
       "        text-align: right;\n",
       "    }\n",
       "</style>\n",
       "<table border=\"1\" class=\"dataframe\">\n",
       "  <thead>\n",
       "    <tr style=\"text-align: right;\">\n",
       "      <th></th>\n",
       "      <th>monthYear</th>\n",
       "      <th>duration</th>\n",
       "      <th>hour</th>\n",
       "      <th>month</th>\n",
       "      <th>year</th>\n",
       "    </tr>\n",
       "  </thead>\n",
       "  <tbody>\n",
       "    <tr>\n",
       "      <th>0</th>\n",
       "      <td>Sep 19</td>\n",
       "      <td>10500.0</td>\n",
       "      <td>51</td>\n",
       "      <td>09</td>\n",
       "      <td>19</td>\n",
       "    </tr>\n",
       "    <tr>\n",
       "      <th>1</th>\n",
       "      <td>Oct 19</td>\n",
       "      <td>54540.0</td>\n",
       "      <td>299</td>\n",
       "      <td>10</td>\n",
       "      <td>19</td>\n",
       "    </tr>\n",
       "    <tr>\n",
       "      <th>2</th>\n",
       "      <td>Nov 19</td>\n",
       "      <td>173220.0</td>\n",
       "      <td>364</td>\n",
       "      <td>11</td>\n",
       "      <td>19</td>\n",
       "    </tr>\n",
       "    <tr>\n",
       "      <th>3</th>\n",
       "      <td>Dec 19</td>\n",
       "      <td>72060.0</td>\n",
       "      <td>343</td>\n",
       "      <td>12</td>\n",
       "      <td>19</td>\n",
       "    </tr>\n",
       "    <tr>\n",
       "      <th>4</th>\n",
       "      <td>Jan 20</td>\n",
       "      <td>155820.0</td>\n",
       "      <td>470</td>\n",
       "      <td>01</td>\n",
       "      <td>20</td>\n",
       "    </tr>\n",
       "    <tr>\n",
       "      <th>5</th>\n",
       "      <td>Feb 20</td>\n",
       "      <td>126720.0</td>\n",
       "      <td>306</td>\n",
       "      <td>02</td>\n",
       "      <td>20</td>\n",
       "    </tr>\n",
       "  </tbody>\n",
       "</table>\n",
       "</div>"
      ],
      "text/plain": [
       "  monthYear  duration  hour month year\n",
       "0    Sep 19   10500.0    51    09   19\n",
       "1    Oct 19   54540.0   299    10   19\n",
       "2    Nov 19  173220.0   364    11   19\n",
       "3    Dec 19   72060.0   343    12   19\n",
       "4    Jan 20  155820.0   470    01   20\n",
       "5    Feb 20  126720.0   306    02   20"
      ]
     },
     "execution_count": 232,
     "metadata": {},
     "output_type": "execute_result"
    }
   ],
   "source": [
    "# Which months are the worst for disruption?\n",
    "durationByMonthYear = df.groupby(['monthYear'], as_index=False).sum()\n",
    "durationByMonthYear['month'] = durationByMonthYear.apply(getMonthNum, axis=1)\n",
    "durationByMonthYear['year'] = durationByMonthYear.apply(getYearNum, axis=1)\n",
    "\n",
    "durationByMonthYear = durationByMonthYear.sort_values(['year', 'month']).reset_index(drop=True)\n",
    "sortLabels=durationByMonthYear['monthYear']\n",
    "durationByMonthYear"
   ]
  },
  {
   "cell_type": "code",
   "execution_count": 233,
   "metadata": {},
   "outputs": [
    {
     "data": {
      "text/plain": [
       "0    Sep 19\n",
       "1    Oct 19\n",
       "2    Nov 19\n",
       "3    Dec 19\n",
       "4    Jan 20\n",
       "5    Feb 20\n",
       "Name: monthYear, dtype: object"
      ]
     },
     "execution_count": 233,
     "metadata": {},
     "output_type": "execute_result"
    }
   ],
   "source": [
    "sortLabels"
   ]
  },
  {
   "cell_type": "code",
   "execution_count": 56,
   "metadata": {},
   "outputs": [
    {
     "data": {
      "image/png": "[encoded data removed]",
      "text/plain": [
       "<Figure size 432x288 with 1 Axes>"
      ]
     },
     "metadata": {
      "needs_background": "light"
     },
     "output_type": "display_data"
    }
   ],
   "source": [
    "# Duration (in seconds) per month\n",
    "ax = sns.barplot(x=durationByMonthYear['monthYear'], \n",
    "                 y=durationByMonthYear[\"duration\"], \n",
    "                 order=sortLabels,\n",
    "                 palette='Blues_d')\n",
    "# November and January were rough."
   ]
  },
  {
   "cell_type": "code",
   "execution_count": 92,
   "metadata": {},
   "outputs": [
    {
     "data": {
      "image/png": "[encoded data removed]",
      "text/plain": [
       "<Figure size 432x288 with 1 Axes>"
      ]
     },
     "metadata": {
      "needs_background": "light"
     },
     "output_type": "display_data"
    }
   ],
   "source": [
    "# Just the bass\n",
    "noiseByMonth = df[df['type'] == 'bass'].groupby(['monthYear'], as_index=False).sum()\n",
    "noiseByMonth['month'] = noiseByMonth.apply(getMonthNum, axis=1)\n",
    "noiseByMonth['year'] = noiseByMonth.apply(getYearNum, axis=1)\n",
    "\n",
    "noiseByMonth.sort_values(['year', 'month']).reset_index(drop=True)\n",
    "ax = sns.barplot(noiseByMonth['monthYear'], \n",
    "                 noiseByMonth[\"duration\"],\n",
    "                 order=sortLabels,\n",
    "                 palette='Blues_d')\n",
    "# Amazing. Almost identical"
   ]
  },
  {
   "cell_type": "code",
   "execution_count": 93,
   "metadata": {},
   "outputs": [
    {
     "data": {
      "image/png": "[encoded data removed]",
      "text/plain": [
       "<Figure size 432x288 with 1 Axes>"
      ]
     },
     "metadata": {
      "needs_background": "light"
     },
     "output_type": "display_data"
    }
   ],
   "source": [
    "# Just the weed this time\n",
    "stankByMonth = df[df['type'] == 'weed'].groupby(['monthYear'], as_index=False).sum()\n",
    "stankByMonth['month'] = stankByMonth.apply(getMonthNum, axis=1)\n",
    "stankByMonth['year'] = stankByMonth.apply(getYearNum, axis=1)\n",
    "\n",
    "stankByMonth.sort_values(['year', 'month']).reset_index(drop=True)\n",
    "ax = sns.barplot(stankByMonth['monthYear'], \n",
    "                 stankByMonth[\"duration\"],\n",
    "                 order=sortLabels,\n",
    "                 palette='BuGn_r')\n",
    "# Dry january?"
   ]
  },
  {
   "cell_type": "code",
   "execution_count": 82,
   "metadata": {},
   "outputs": [
    {
     "data": {
      "image/png": "[encoded data removed]",
      "text/plain": [
       "<Figure size 432x288 with 1 Axes>"
      ]
     },
     "metadata": {
      "needs_background": "light"
     },
     "output_type": "display_data"
    }
   ],
   "source": [
    "# Which days of the week had the most disruption?\n",
    "durationByWeekday = df.groupby(['weekday'], as_index=False).sum()\n",
    "durationByWeekday.sort_values(['weekday']).reset_index(drop=True)\n",
    "ax = sns.barplot(durationByWeekday['weekday'], \n",
    "                 durationByWeekday[\"duration\"],\n",
    "                 order=calendar.day_name,\n",
    "                 palette='OrRd')\n",
    "# No surprise there, weekends are the busiest. Unfortunately it looks like mondays didn't\n",
    "# slow them down as much as I would have liked"
   ]
  },
  {
   "cell_type": "code",
   "execution_count": 83,
   "metadata": {},
   "outputs": [
    {
     "data": {
      "image/png": "[encoded data removed]",
      "text/plain": [
       "<Figure size 432x288 with 1 Axes>"
      ]
     },
     "metadata": {
      "needs_background": "light"
     },
     "output_type": "display_data"
    }
   ],
   "source": [
    "# Which days of the week are the stinkiest?\n",
    "stinkByWeekday = df[df['type'] == 'weed'].groupby(['weekday'], as_index=False).sum()\n",
    "stinkByWeekday.sort_values(['weekday']).reset_index(drop=True)\n",
    "ax = sns.barplot(stinkByWeekday['weekday'], \n",
    "                 stinkByWeekday[\"duration\"],\n",
    "                 order=calendar.day_name,\n",
    "                 palette='BuGn_r')\n",
    "# #weDontSmokeOnMondays"
   ]
  },
  {
   "cell_type": "code",
   "execution_count": 85,
   "metadata": {},
   "outputs": [
    {
     "data": {
      "image/png": "[encoded data removed]",
      "text/plain": [
       "<Figure size 432x288 with 1 Axes>"
      ]
     },
     "metadata": {
      "needs_background": "light"
     },
     "output_type": "display_data"
    }
   ],
   "source": [
    "# Which days of the week are noisiest\n",
    "noiseByWeekday = df[df['type'] == 'bass'].groupby(['weekday'], as_index=False).sum()\n",
    "noiseByWeekday.sort_values(['weekday']).reset_index(drop=True)\n",
    "ax = sns.barplot(noiseByWeekday['weekday'], \n",
    "                 noiseByWeekday[\"duration\"],\n",
    "                 order=calendar.day_name,\n",
    "                 palette='Blues_d')\n",
    "# WUBWUBWUBWUBWUBWUBWUB"
   ]
  },
  {
   "cell_type": "code",
   "execution_count": 160,
   "metadata": {},
   "outputs": [
    {
     "name": "stderr",
     "output_type": "stream",
     "text": [
      "/Users/Pat_Berard/anaconda3/lib/python3.7/site-packages/ipykernel_launcher.py:4: SettingWithCopyWarning: \n",
      "A value is trying to be set on a copy of a slice from a DataFrame.\n",
      "Try using .loc[row_indexer,col_indexer] = value instead\n",
      "\n",
      "See the caveats in the documentation: http://pandas.pydata.org/pandas-docs/stable/indexing.html#indexing-view-versus-copy\n",
      "  after removing the cwd from sys.path.\n"
     ]
    }
   ],
   "source": [
    "#  https://pythonhosted.org/calmap/\n",
    "# Need to index by DatetimeIndex for calmap\n",
    "calFormatted = df[['date','duration']]\n",
    "calFormatted['date'] = calFormatted.apply(lambda x: datetime.strptime(x['date'], '%m/%d/%y'), axis=1)\n",
    "calFormatted = calFormatted.groupby(['date'], as_index=True).sum()\n",
    "events = calFormatted.iloc[0:,0] # Convert to series for calmap"
   ]
  },
  {
   "cell_type": "code",
   "execution_count": 174,
   "metadata": {},
   "outputs": [
    {
     "data": {
      "text/plain": [
       "(<Figure size 864x288 with 2 Axes>,\n",
       " array([<matplotlib.axes._subplots.AxesSubplot object at 0x1a24237d68>,\n",
       "        <matplotlib.axes._subplots.AxesSubplot object at 0x1a26316748>],\n",
       "       dtype=object))"
      ]
     },
     "execution_count": 174,
     "metadata": {},
     "output_type": "execute_result"
    },
    {
     "data": {
      "image/png": "[encoded data removed]",
      "text/plain": [
       "<Figure size 864x288 with 2 Axes>"
      ]
     },
     "metadata": {},
     "output_type": "display_data"
    }
   ],
   "source": [
    "calmap.calendarplot(\n",
    "    events,\n",
    "    daylabels='MTWTFSS',\n",
    "    cmap='YlGn',\n",
    "    fig_kws=dict(figsize=(12, 4)),\n",
    "    fillcolor='grey',\n",
    "    yearlabels=True\n",
    ")"
   ]
  },
  {
   "cell_type": "code",
   "execution_count": 240,
   "metadata": {},
   "outputs": [
    {
     "data": {
      "image/png": "[encoded data removed]",
      "text/plain": [
       "<Figure size 864x576 with 1 Axes>"
      ]
     },
     "metadata": {},
     "output_type": "display_data"
    }
   ],
   "source": [
    "byHour = df\n",
    "byHour['hour'] = byHour.apply(lambda x: x['startTime'].hour, axis=1)\n",
    "byHour.groupby(['hour'], as_index=True).count()\n",
    "\n",
    "# Time of day noise started grouped by type of disturbance\n",
    "plt.figure(figsize=(12,8))\n",
    "ax = sns.countplot(\n",
    "    x='hour', \n",
    "    data=byHour, \n",
    "    hue='type', \n",
    "    dodge=False,\n",
    "    palette=sns.color_palette(\"Set1\")\n",
    ")"
   ]
  },
  {
   "cell_type": "code",
   "execution_count": 239,
   "metadata": {},
   "outputs": [
    {
     "data": {
      "text/html": [
       "<div>\n",
       "<style scoped>\n",
       "    .dataframe tbody tr th:only-of-type {\n",
       "        vertical-align: middle;\n",
       "    }\n",
       "\n",
       "    .dataframe tbody tr th {\n",
       "        vertical-align: top;\n",
       "    }\n",
       "\n",
       "    .dataframe thead th {\n",
       "        text-align: right;\n",
       "    }\n",
       "</style>\n",
       "<table border=\"1\" class=\"dataframe\">\n",
       "  <thead>\n",
       "    <tr style=\"text-align: right;\">\n",
       "      <th></th>\n",
       "      <th>date</th>\n",
       "      <th>start</th>\n",
       "      <th>end</th>\n",
       "      <th>type</th>\n",
       "      <th>startTime</th>\n",
       "      <th>endTime</th>\n",
       "      <th>duration</th>\n",
       "      <th>weekday</th>\n",
       "      <th>month</th>\n",
       "      <th>monthYear</th>\n",
       "      <th>hour</th>\n",
       "    </tr>\n",
       "  </thead>\n",
       "  <tbody>\n",
       "    <tr>\n",
       "      <th>26</th>\n",
       "      <td>11/2/19</td>\n",
       "      <td>11:00am</td>\n",
       "      <td>11:00pm</td>\n",
       "      <td>bass</td>\n",
       "      <td>2019-11-02 11:00:00</td>\n",
       "      <td>2019-11-02 23:00:00</td>\n",
       "      <td>43200.0</td>\n",
       "      <td>Saturday</td>\n",
       "      <td>November</td>\n",
       "      <td>Nov 19</td>\n",
       "      <td>11</td>\n",
       "    </tr>\n",
       "  </tbody>\n",
       "</table>\n",
       "</div>"
      ],
      "text/plain": [
       "       date    start      end  type           startTime             endTime  \\\n",
       "26  11/2/19  11:00am  11:00pm  bass 2019-11-02 11:00:00 2019-11-02 23:00:00   \n",
       "\n",
       "    duration   weekday     month monthYear  hour  \n",
       "26   43200.0  Saturday  November    Nov 19    11  "
      ]
     },
     "execution_count": 239,
     "metadata": {},
     "output_type": "execute_result"
    }
   ],
   "source": [
    "# Which day had the longest duration of noise\n",
    "df[df['duration'] == df['duration'].max()]\n",
    "# 11/2/19 wins for WORST DAY OF BASS"
   ]
  },
  {
   "cell_type": "code",
   "execution_count": null,
   "metadata": {},
   "outputs": [],
   "source": []
  }
 ],
 "metadata": {
  "kernelspec": {
   "display_name": "Python 3",
   "language": "python",
   "name": "python3"
  },
  "language_info": {
   "codemirror_mode": {
    "name": "ipython",
    "version": 3
   },
   "file_extension": ".py",
   "mimetype": "text/x-python",
   "name": "python",
   "nbconvert_exporter": "python",
   "pygments_lexer": "ipython3",
   "version": "3.7.0"
  }
 },
 "nbformat": 4,
 "nbformat_minor": 2
}
